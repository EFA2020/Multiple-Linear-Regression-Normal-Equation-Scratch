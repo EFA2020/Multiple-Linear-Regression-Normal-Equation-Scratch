{
 "cells": [
  {
   "cell_type": "code",
   "execution_count": 108,
   "metadata": {},
   "outputs": [],
   "source": [
    "import numpy as np\n",
    "import pandas as pd"
   ]
  },
  {
   "cell_type": "code",
   "execution_count": 109,
   "metadata": {},
   "outputs": [
    {
     "data": {
      "text/html": [
       "<div>\n",
       "<style scoped>\n",
       "    .dataframe tbody tr th:only-of-type {\n",
       "        vertical-align: middle;\n",
       "    }\n",
       "\n",
       "    .dataframe tbody tr th {\n",
       "        vertical-align: top;\n",
       "    }\n",
       "\n",
       "    .dataframe thead th {\n",
       "        text-align: right;\n",
       "    }\n",
       "</style>\n",
       "<table border=\"1\" class=\"dataframe\">\n",
       "  <thead>\n",
       "    <tr style=\"text-align: right;\">\n",
       "      <th></th>\n",
       "      <th>AT</th>\n",
       "      <th>V</th>\n",
       "      <th>AP</th>\n",
       "      <th>RH</th>\n",
       "      <th>PE</th>\n",
       "    </tr>\n",
       "  </thead>\n",
       "  <tbody>\n",
       "    <tr>\n",
       "      <th>0</th>\n",
       "      <td>8.34</td>\n",
       "      <td>40.77</td>\n",
       "      <td>1010.84</td>\n",
       "      <td>90.01</td>\n",
       "      <td>480.48</td>\n",
       "    </tr>\n",
       "    <tr>\n",
       "      <th>1</th>\n",
       "      <td>23.64</td>\n",
       "      <td>58.49</td>\n",
       "      <td>1011.40</td>\n",
       "      <td>74.20</td>\n",
       "      <td>445.75</td>\n",
       "    </tr>\n",
       "    <tr>\n",
       "      <th>2</th>\n",
       "      <td>29.74</td>\n",
       "      <td>56.90</td>\n",
       "      <td>1007.15</td>\n",
       "      <td>41.91</td>\n",
       "      <td>438.76</td>\n",
       "    </tr>\n",
       "    <tr>\n",
       "      <th>3</th>\n",
       "      <td>19.07</td>\n",
       "      <td>49.69</td>\n",
       "      <td>1007.22</td>\n",
       "      <td>76.79</td>\n",
       "      <td>453.09</td>\n",
       "    </tr>\n",
       "    <tr>\n",
       "      <th>4</th>\n",
       "      <td>11.80</td>\n",
       "      <td>40.66</td>\n",
       "      <td>1017.13</td>\n",
       "      <td>97.20</td>\n",
       "      <td>464.43</td>\n",
       "    </tr>\n",
       "  </tbody>\n",
       "</table>\n",
       "</div>"
      ],
      "text/plain": [
       "      AT      V       AP     RH      PE\n",
       "0   8.34  40.77  1010.84  90.01  480.48\n",
       "1  23.64  58.49  1011.40  74.20  445.75\n",
       "2  29.74  56.90  1007.15  41.91  438.76\n",
       "3  19.07  49.69  1007.22  76.79  453.09\n",
       "4  11.80  40.66  1017.13  97.20  464.43"
      ]
     },
     "execution_count": 109,
     "metadata": {},
     "output_type": "execute_result"
    }
   ],
   "source": [
    "df = pd.read_csv('./dataset/dataset_csv.csv') #read the dataset\n",
    "df.head()"
   ]
  },
  {
   "cell_type": "code",
   "execution_count": 110,
   "metadata": {},
   "outputs": [],
   "source": [
    "total_X = df.iloc[:, :-1].values #total_X is a matrix the size of 9568 X 4\n",
    "total_y = df.iloc[:, -1].values  #total_Y is a vector the size of 9568"
   ]
  },
  {
   "cell_type": "code",
   "execution_count": 111,
   "metadata": {},
   "outputs": [
    {
     "name": "stdout",
     "output_type": "stream",
     "text": [
      "[[1.00000e+00 8.34000e+00 4.07700e+01 1.01084e+03 9.00100e+01]\n",
      " [1.00000e+00 2.36400e+01 5.84900e+01 1.01140e+03 7.42000e+01]\n",
      " [1.00000e+00 2.97400e+01 5.69000e+01 1.00715e+03 4.19100e+01]\n",
      " [1.00000e+00 1.90700e+01 4.96900e+01 1.00722e+03 7.67900e+01]\n",
      " [1.00000e+00 1.18000e+01 4.06600e+01 1.01713e+03 9.72000e+01]]\n"
     ]
    }
   ],
   "source": [
    "b = np.ones((total_X.shape[0],total_X.shape[1]+1)) # b is a 9568 X 5 matrix filled with ones.\n",
    "b[:, 1:] = total_X #b is the total_X matrix except with first column filled with ones\n",
    "total_X = b #reassign\n",
    "print(total_X[:5])"
   ]
  },
  {
   "cell_type": "code",
   "execution_count": 112,
   "metadata": {},
   "outputs": [],
   "source": [
    "#in order for us to verify the accuracy later, we will reserve about 20% of the whole dataset.\n",
    "test_training_ratio       = 0.2\n",
    "num_of_testing_example    = int(test_training_ratio*total_X.shape[0]) # (20/100) * 9568 = 1913.6. After flooring, 1913\n",
    "num_of_training_example   = total_X.shape[0] - num_of_testing_example # 9568 - 1913 = 7655\n",
    "X                         = total_X[:num_of_training_example] #matrix of size 7655 X 4. input X (according to the pdf note)\n",
    "y                         = total_y[:num_of_training_example] #vector of size 7655. input y (according to the pdf note)\n",
    "X_test                    = total_X[num_of_training_example:] #matrix of size 1913 X 4\n",
    "y_test                    = total_y[num_of_training_example:] #vector of size 1913"
   ]
  },
  {
   "cell_type": "code",
   "execution_count": 113,
   "metadata": {},
   "outputs": [],
   "source": [
    "X_transpose        = np.transpose(X) #matrix of size 4 X 7655\n",
    "X_tranpose_times_X = X_transpose.dot(X)  #matrix of size 4 X 4"
   ]
  },
  {
   "cell_type": "code",
   "execution_count": 114,
   "metadata": {},
   "outputs": [],
   "source": [
    "try:\n",
    "    X_transpose_times_X_inverse                  = np.linalg.inv(X_tranpose_times_X) #matrix of size 4 X 4\n",
    "    X_transpose_times_X_inverse_times_X_tranpose = X_transpose_times_X_inverse.dot(X_transpose) #matrix of size 4 X 7655\n",
    "    theta                                        = X_transpose_times_X_inverse_times_X_tranpose.dot(y) #vector of size 4\n",
    "except Exception as e:\n",
    "    if str(e) == 'Singular matrix': #NOTE that inverse does not exist for singular matrices. i.e. determinant of the matrix is 0.\n",
    "        #the system has to be solved manually if X_tranpose_times_X is a singular matrix\n",
    "        theta = np.linalg.solve(X_tranpose_times_X, y) #solve the linear system of X tranpose * X = y"
   ]
  },
  {
   "cell_type": "code",
   "execution_count": 115,
   "metadata": {},
   "outputs": [
    {
     "name": "stdout",
     "output_type": "stream",
     "text": [
      "421.099530803685\n"
     ]
    }
   ],
   "source": [
    "y_hat_test = X_test.dot(theta) #calculate h(x)\n",
    "comparison = y_test - y_hat_test #compare h(x) with y\n",
    "print(sum(comparison)) #total loss was only ~421."
   ]
  },
  {
   "cell_type": "code",
   "execution_count": 116,
   "metadata": {},
   "outputs": [
    {
     "name": "stdout",
     "output_type": "stream",
     "text": [
      "[ 4.57261604e+02 -1.97644295e+00 -2.33524675e-01  5.93789692e-02\n",
      " -1.58037984e-01]\n"
     ]
    }
   ],
   "source": [
    "print(theta)"
   ]
  },
  {
   "cell_type": "code",
   "execution_count": null,
   "metadata": {},
   "outputs": [],
   "source": []
  }
 ],
 "metadata": {
  "kernelspec": {
   "display_name": "nasa",
   "language": "python",
   "name": "nasa"
  },
  "language_info": {
   "codemirror_mode": {
    "name": "ipython",
    "version": 3
   },
   "file_extension": ".py",
   "mimetype": "text/x-python",
   "name": "python",
   "nbconvert_exporter": "python",
   "pygments_lexer": "ipython3",
   "version": "3.5.2"
  }
 },
 "nbformat": 4,
 "nbformat_minor": 2
}
